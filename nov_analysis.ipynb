{
 "cells": [
  {
   "cell_type": "code",
   "execution_count": 1,
   "metadata": {},
   "outputs": [],
   "source": [
    "import pandas as pd\n",
    "import numpy as np\n",
    "import seaborn as sns\n",
    "import matplotlib.pyplot as plt\n",
    "import plotly.express as px\n",
    "from plotly.subplots import make_subplots\n",
    "import plotly.graph_objects as go\n",
    "from datetime import datetime\n",
    "sns.set(color_codes=True)"
   ]
  },
  {
   "cell_type": "markdown",
   "metadata": {},
   "source": [
    "STARTING THE ANALYSIS"
   ]
  },
  {
   "cell_type": "code",
   "execution_count": 2,
   "metadata": {},
   "outputs": [],
   "source": [
    "df_agric=pd.read_csv(\"na-nov2021-agriculture-csv.csv\")\n",
    "df_capital=pd.read_csv(\"na-nov2021-capital-stocks-csv.csv\")\n",
    "df_gdp=pd.read_csv(\"na-nov2021-gdp-breakdown-csv.csv\")\n",
    "df_hce=pd.read_csv(\"na-nov2021-hce-csv.csv\")\n",
    "df_instit=pd.read_csv(\"na-nov2021-institutional-sectors-csv.csv\")\n",
    "df_percapita=pd.read_csv(\"na-nov2021-percapita-csv.csv\")\n",
    "df_taxes=pd.read_csv(\"na-nov2021-taxes-csv.csv\")"
   ]
  },
  {
   "cell_type": "code",
   "execution_count": 3,
   "metadata": {},
   "outputs": [
    {
     "name": "stderr",
     "output_type": "stream",
     "text": [
      "C:\\Users\\StarCJ\\AppData\\Local\\Temp\\ipykernel_14060\\3493779996.py:2: FutureWarning: The frame.append method is deprecated and will be removed from pandas in a future version. Use pandas.concat instead.\n",
      "  df=df_agric.append(df_percapita, ignore_index=True)\n"
     ]
    },
    {
     "data": {
      "text/html": [
       "<div>\n",
       "<style scoped>\n",
       "    .dataframe tbody tr th:only-of-type {\n",
       "        vertical-align: middle;\n",
       "    }\n",
       "\n",
       "    .dataframe tbody tr th {\n",
       "        vertical-align: top;\n",
       "    }\n",
       "\n",
       "    .dataframe thead th {\n",
       "        text-align: right;\n",
       "    }\n",
       "</style>\n",
       "<table border=\"1\" class=\"dataframe\">\n",
       "  <thead>\n",
       "    <tr style=\"text-align: right;\">\n",
       "      <th></th>\n",
       "      <th>Series_reference</th>\n",
       "      <th>Period</th>\n",
       "      <th>Data_value</th>\n",
       "      <th>STATUS</th>\n",
       "      <th>UNITS</th>\n",
       "      <th>MAGNTUDE</th>\n",
       "      <th>Subject</th>\n",
       "      <th>Group</th>\n",
       "      <th>Series_title_1</th>\n",
       "      <th>Series_title_2</th>\n",
       "      <th>Series_title_3</th>\n",
       "      <th>Series_title_4</th>\n",
       "      <th>Series_title_5</th>\n",
       "    </tr>\n",
       "  </thead>\n",
       "  <tbody>\n",
       "    <tr>\n",
       "      <th>0</th>\n",
       "      <td>SNEA.SG01NAC16P10A11</td>\n",
       "      <td>2007.03</td>\n",
       "      <td>526</td>\n",
       "      <td>FINAL</td>\n",
       "      <td>Dollar</td>\n",
       "      <td>6</td>\n",
       "      <td>National Accounts - SNA 2008 - SNE</td>\n",
       "      <td>Series, GDP(P), Nominal, Actual, Agricultural ...</td>\n",
       "      <td>Output</td>\n",
       "      <td>Wool</td>\n",
       "      <td>NaN</td>\n",
       "      <td>NaN</td>\n",
       "      <td>NaN</td>\n",
       "    </tr>\n",
       "    <tr>\n",
       "      <th>1</th>\n",
       "      <td>SNEA.SG01NAC16P10A11</td>\n",
       "      <td>2008.03</td>\n",
       "      <td>482</td>\n",
       "      <td>FINAL</td>\n",
       "      <td>Dollar</td>\n",
       "      <td>6</td>\n",
       "      <td>National Accounts - SNA 2008 - SNE</td>\n",
       "      <td>Series, GDP(P), Nominal, Actual, Agricultural ...</td>\n",
       "      <td>Output</td>\n",
       "      <td>Wool</td>\n",
       "      <td>NaN</td>\n",
       "      <td>NaN</td>\n",
       "      <td>NaN</td>\n",
       "    </tr>\n",
       "    <tr>\n",
       "      <th>2</th>\n",
       "      <td>SNEA.SG01NAC16P10A11</td>\n",
       "      <td>2009.03</td>\n",
       "      <td>404</td>\n",
       "      <td>FINAL</td>\n",
       "      <td>Dollar</td>\n",
       "      <td>6</td>\n",
       "      <td>National Accounts - SNA 2008 - SNE</td>\n",
       "      <td>Series, GDP(P), Nominal, Actual, Agricultural ...</td>\n",
       "      <td>Output</td>\n",
       "      <td>Wool</td>\n",
       "      <td>NaN</td>\n",
       "      <td>NaN</td>\n",
       "      <td>NaN</td>\n",
       "    </tr>\n",
       "    <tr>\n",
       "      <th>3</th>\n",
       "      <td>SNEA.SG01NAC16P10A11</td>\n",
       "      <td>2010.03</td>\n",
       "      <td>450</td>\n",
       "      <td>FINAL</td>\n",
       "      <td>Dollar</td>\n",
       "      <td>6</td>\n",
       "      <td>National Accounts - SNA 2008 - SNE</td>\n",
       "      <td>Series, GDP(P), Nominal, Actual, Agricultural ...</td>\n",
       "      <td>Output</td>\n",
       "      <td>Wool</td>\n",
       "      <td>NaN</td>\n",
       "      <td>NaN</td>\n",
       "      <td>NaN</td>\n",
       "    </tr>\n",
       "  </tbody>\n",
       "</table>\n",
       "</div>"
      ],
      "text/plain": [
       "       Series_reference   Period  Data_value STATUS   UNITS  MAGNTUDE  \\\n",
       "0  SNEA.SG01NAC16P10A11  2007.03         526  FINAL  Dollar         6   \n",
       "1  SNEA.SG01NAC16P10A11  2008.03         482  FINAL  Dollar         6   \n",
       "2  SNEA.SG01NAC16P10A11  2009.03         404  FINAL  Dollar         6   \n",
       "3  SNEA.SG01NAC16P10A11  2010.03         450  FINAL  Dollar         6   \n",
       "\n",
       "                              Subject  \\\n",
       "0  National Accounts - SNA 2008 - SNE   \n",
       "1  National Accounts - SNA 2008 - SNE   \n",
       "2  National Accounts - SNA 2008 - SNE   \n",
       "3  National Accounts - SNA 2008 - SNE   \n",
       "\n",
       "                                               Group Series_title_1  \\\n",
       "0  Series, GDP(P), Nominal, Actual, Agricultural ...         Output   \n",
       "1  Series, GDP(P), Nominal, Actual, Agricultural ...         Output   \n",
       "2  Series, GDP(P), Nominal, Actual, Agricultural ...         Output   \n",
       "3  Series, GDP(P), Nominal, Actual, Agricultural ...         Output   \n",
       "\n",
       "  Series_title_2  Series_title_3  Series_title_4  Series_title_5  \n",
       "0           Wool             NaN             NaN             NaN  \n",
       "1           Wool             NaN             NaN             NaN  \n",
       "2           Wool             NaN             NaN             NaN  \n",
       "3           Wool             NaN             NaN             NaN  "
      ]
     },
     "execution_count": 3,
     "metadata": {},
     "output_type": "execute_result"
    }
   ],
   "source": [
    "# You can append on frame to another but is an old method and hard way.\n",
    "df=df_agric.append(df_percapita, ignore_index=True)\n",
    "df.head(4)"
   ]
  },
  {
   "cell_type": "code",
   "execution_count": 4,
   "metadata": {},
   "outputs": [],
   "source": [
    "# another way to join frames and best way, it will join the frames at once. It join after last row\n",
    "frames=pd.concat([df_agric,df_capital,df_gdp,df_hce,df_instit, df_percapita,df_taxes],ignore_index=True)\n"
   ]
  },
  {
   "cell_type": "code",
   "execution_count": 5,
   "metadata": {},
   "outputs": [
    {
     "data": {
      "application/vnd.plotly.v1+json": {
       "config": {
        "plotlyServerURL": "https://plot.ly"
       },
       "data": [
        {
         "domain": {
          "x": [
           0,
           1
          ],
          "y": [
           0,
           1
          ]
         },
         "hovertemplate": "label=%{label}<br>value=%{value}<extra></extra>",
         "labels": [
          "Agric",
          "Captial",
          "GDP",
          "HCE",
          "Institution",
          "PerCapita",
          "Taxes"
         ],
         "legendgroup": "",
         "name": "",
         "showlegend": true,
         "type": "pie",
         "values": [
          420,
          42084,
          35638,
          588,
          17362,
          90,
          627
         ]
        }
       ],
       "layout": {
        "legend": {
         "tracegroupgap": 0
        },
        "template": {
         "data": {
          "bar": [
           {
            "error_x": {
             "color": "#2a3f5f"
            },
            "error_y": {
             "color": "#2a3f5f"
            },
            "marker": {
             "line": {
              "color": "#E5ECF6",
              "width": 0.5
             },
             "pattern": {
              "fillmode": "overlay",
              "size": 10,
              "solidity": 0.2
             }
            },
            "type": "bar"
           }
          ],
          "barpolar": [
           {
            "marker": {
             "line": {
              "color": "#E5ECF6",
              "width": 0.5
             },
             "pattern": {
              "fillmode": "overlay",
              "size": 10,
              "solidity": 0.2
             }
            },
            "type": "barpolar"
           }
          ],
          "carpet": [
           {
            "aaxis": {
             "endlinecolor": "#2a3f5f",
             "gridcolor": "white",
             "linecolor": "white",
             "minorgridcolor": "white",
             "startlinecolor": "#2a3f5f"
            },
            "baxis": {
             "endlinecolor": "#2a3f5f",
             "gridcolor": "white",
             "linecolor": "white",
             "minorgridcolor": "white",
             "startlinecolor": "#2a3f5f"
            },
            "type": "carpet"
           }
          ],
          "choropleth": [
           {
            "colorbar": {
             "outlinewidth": 0,
             "ticks": ""
            },
            "type": "choropleth"
           }
          ],
          "contour": [
           {
            "colorbar": {
             "outlinewidth": 0,
             "ticks": ""
            },
            "colorscale": [
             [
              0,
              "#0d0887"
             ],
             [
              0.1111111111111111,
              "#46039f"
             ],
             [
              0.2222222222222222,
              "#7201a8"
             ],
             [
              0.3333333333333333,
              "#9c179e"
             ],
             [
              0.4444444444444444,
              "#bd3786"
             ],
             [
              0.5555555555555556,
              "#d8576b"
             ],
             [
              0.6666666666666666,
              "#ed7953"
             ],
             [
              0.7777777777777778,
              "#fb9f3a"
             ],
             [
              0.8888888888888888,
              "#fdca26"
             ],
             [
              1,
              "#f0f921"
             ]
            ],
            "type": "contour"
           }
          ],
          "contourcarpet": [
           {
            "colorbar": {
             "outlinewidth": 0,
             "ticks": ""
            },
            "type": "contourcarpet"
           }
          ],
          "heatmap": [
           {
            "colorbar": {
             "outlinewidth": 0,
             "ticks": ""
            },
            "colorscale": [
             [
              0,
              "#0d0887"
             ],
             [
              0.1111111111111111,
              "#46039f"
             ],
             [
              0.2222222222222222,
              "#7201a8"
             ],
             [
              0.3333333333333333,
              "#9c179e"
             ],
             [
              0.4444444444444444,
              "#bd3786"
             ],
             [
              0.5555555555555556,
              "#d8576b"
             ],
             [
              0.6666666666666666,
              "#ed7953"
             ],
             [
              0.7777777777777778,
              "#fb9f3a"
             ],
             [
              0.8888888888888888,
              "#fdca26"
             ],
             [
              1,
              "#f0f921"
             ]
            ],
            "type": "heatmap"
           }
          ],
          "heatmapgl": [
           {
            "colorbar": {
             "outlinewidth": 0,
             "ticks": ""
            },
            "colorscale": [
             [
              0,
              "#0d0887"
             ],
             [
              0.1111111111111111,
              "#46039f"
             ],
             [
              0.2222222222222222,
              "#7201a8"
             ],
             [
              0.3333333333333333,
              "#9c179e"
             ],
             [
              0.4444444444444444,
              "#bd3786"
             ],
             [
              0.5555555555555556,
              "#d8576b"
             ],
             [
              0.6666666666666666,
              "#ed7953"
             ],
             [
              0.7777777777777778,
              "#fb9f3a"
             ],
             [
              0.8888888888888888,
              "#fdca26"
             ],
             [
              1,
              "#f0f921"
             ]
            ],
            "type": "heatmapgl"
           }
          ],
          "histogram": [
           {
            "marker": {
             "pattern": {
              "fillmode": "overlay",
              "size": 10,
              "solidity": 0.2
             }
            },
            "type": "histogram"
           }
          ],
          "histogram2d": [
           {
            "colorbar": {
             "outlinewidth": 0,
             "ticks": ""
            },
            "colorscale": [
             [
              0,
              "#0d0887"
             ],
             [
              0.1111111111111111,
              "#46039f"
             ],
             [
              0.2222222222222222,
              "#7201a8"
             ],
             [
              0.3333333333333333,
              "#9c179e"
             ],
             [
              0.4444444444444444,
              "#bd3786"
             ],
             [
              0.5555555555555556,
              "#d8576b"
             ],
             [
              0.6666666666666666,
              "#ed7953"
             ],
             [
              0.7777777777777778,
              "#fb9f3a"
             ],
             [
              0.8888888888888888,
              "#fdca26"
             ],
             [
              1,
              "#f0f921"
             ]
            ],
            "type": "histogram2d"
           }
          ],
          "histogram2dcontour": [
           {
            "colorbar": {
             "outlinewidth": 0,
             "ticks": ""
            },
            "colorscale": [
             [
              0,
              "#0d0887"
             ],
             [
              0.1111111111111111,
              "#46039f"
             ],
             [
              0.2222222222222222,
              "#7201a8"
             ],
             [
              0.3333333333333333,
              "#9c179e"
             ],
             [
              0.4444444444444444,
              "#bd3786"
             ],
             [
              0.5555555555555556,
              "#d8576b"
             ],
             [
              0.6666666666666666,
              "#ed7953"
             ],
             [
              0.7777777777777778,
              "#fb9f3a"
             ],
             [
              0.8888888888888888,
              "#fdca26"
             ],
             [
              1,
              "#f0f921"
             ]
            ],
            "type": "histogram2dcontour"
           }
          ],
          "mesh3d": [
           {
            "colorbar": {
             "outlinewidth": 0,
             "ticks": ""
            },
            "type": "mesh3d"
           }
          ],
          "parcoords": [
           {
            "line": {
             "colorbar": {
              "outlinewidth": 0,
              "ticks": ""
             }
            },
            "type": "parcoords"
           }
          ],
          "pie": [
           {
            "automargin": true,
            "type": "pie"
           }
          ],
          "scatter": [
           {
            "fillpattern": {
             "fillmode": "overlay",
             "size": 10,
             "solidity": 0.2
            },
            "type": "scatter"
           }
          ],
          "scatter3d": [
           {
            "line": {
             "colorbar": {
              "outlinewidth": 0,
              "ticks": ""
             }
            },
            "marker": {
             "colorbar": {
              "outlinewidth": 0,
              "ticks": ""
             }
            },
            "type": "scatter3d"
           }
          ],
          "scattercarpet": [
           {
            "marker": {
             "colorbar": {
              "outlinewidth": 0,
              "ticks": ""
             }
            },
            "type": "scattercarpet"
           }
          ],
          "scattergeo": [
           {
            "marker": {
             "colorbar": {
              "outlinewidth": 0,
              "ticks": ""
             }
            },
            "type": "scattergeo"
           }
          ],
          "scattergl": [
           {
            "marker": {
             "colorbar": {
              "outlinewidth": 0,
              "ticks": ""
             }
            },
            "type": "scattergl"
           }
          ],
          "scattermapbox": [
           {
            "marker": {
             "colorbar": {
              "outlinewidth": 0,
              "ticks": ""
             }
            },
            "type": "scattermapbox"
           }
          ],
          "scatterpolar": [
           {
            "marker": {
             "colorbar": {
              "outlinewidth": 0,
              "ticks": ""
             }
            },
            "type": "scatterpolar"
           }
          ],
          "scatterpolargl": [
           {
            "marker": {
             "colorbar": {
              "outlinewidth": 0,
              "ticks": ""
             }
            },
            "type": "scatterpolargl"
           }
          ],
          "scatterternary": [
           {
            "marker": {
             "colorbar": {
              "outlinewidth": 0,
              "ticks": ""
             }
            },
            "type": "scatterternary"
           }
          ],
          "surface": [
           {
            "colorbar": {
             "outlinewidth": 0,
             "ticks": ""
            },
            "colorscale": [
             [
              0,
              "#0d0887"
             ],
             [
              0.1111111111111111,
              "#46039f"
             ],
             [
              0.2222222222222222,
              "#7201a8"
             ],
             [
              0.3333333333333333,
              "#9c179e"
             ],
             [
              0.4444444444444444,
              "#bd3786"
             ],
             [
              0.5555555555555556,
              "#d8576b"
             ],
             [
              0.6666666666666666,
              "#ed7953"
             ],
             [
              0.7777777777777778,
              "#fb9f3a"
             ],
             [
              0.8888888888888888,
              "#fdca26"
             ],
             [
              1,
              "#f0f921"
             ]
            ],
            "type": "surface"
           }
          ],
          "table": [
           {
            "cells": {
             "fill": {
              "color": "#EBF0F8"
             },
             "line": {
              "color": "white"
             }
            },
            "header": {
             "fill": {
              "color": "#C8D4E3"
             },
             "line": {
              "color": "white"
             }
            },
            "type": "table"
           }
          ]
         },
         "layout": {
          "annotationdefaults": {
           "arrowcolor": "#2a3f5f",
           "arrowhead": 0,
           "arrowwidth": 1
          },
          "autotypenumbers": "strict",
          "coloraxis": {
           "colorbar": {
            "outlinewidth": 0,
            "ticks": ""
           }
          },
          "colorscale": {
           "diverging": [
            [
             0,
             "#8e0152"
            ],
            [
             0.1,
             "#c51b7d"
            ],
            [
             0.2,
             "#de77ae"
            ],
            [
             0.3,
             "#f1b6da"
            ],
            [
             0.4,
             "#fde0ef"
            ],
            [
             0.5,
             "#f7f7f7"
            ],
            [
             0.6,
             "#e6f5d0"
            ],
            [
             0.7,
             "#b8e186"
            ],
            [
             0.8,
             "#7fbc41"
            ],
            [
             0.9,
             "#4d9221"
            ],
            [
             1,
             "#276419"
            ]
           ],
           "sequential": [
            [
             0,
             "#0d0887"
            ],
            [
             0.1111111111111111,
             "#46039f"
            ],
            [
             0.2222222222222222,
             "#7201a8"
            ],
            [
             0.3333333333333333,
             "#9c179e"
            ],
            [
             0.4444444444444444,
             "#bd3786"
            ],
            [
             0.5555555555555556,
             "#d8576b"
            ],
            [
             0.6666666666666666,
             "#ed7953"
            ],
            [
             0.7777777777777778,
             "#fb9f3a"
            ],
            [
             0.8888888888888888,
             "#fdca26"
            ],
            [
             1,
             "#f0f921"
            ]
           ],
           "sequentialminus": [
            [
             0,
             "#0d0887"
            ],
            [
             0.1111111111111111,
             "#46039f"
            ],
            [
             0.2222222222222222,
             "#7201a8"
            ],
            [
             0.3333333333333333,
             "#9c179e"
            ],
            [
             0.4444444444444444,
             "#bd3786"
            ],
            [
             0.5555555555555556,
             "#d8576b"
            ],
            [
             0.6666666666666666,
             "#ed7953"
            ],
            [
             0.7777777777777778,
             "#fb9f3a"
            ],
            [
             0.8888888888888888,
             "#fdca26"
            ],
            [
             1,
             "#f0f921"
            ]
           ]
          },
          "colorway": [
           "#636efa",
           "#EF553B",
           "#00cc96",
           "#ab63fa",
           "#FFA15A",
           "#19d3f3",
           "#FF6692",
           "#B6E880",
           "#FF97FF",
           "#FECB52"
          ],
          "font": {
           "color": "#2a3f5f"
          },
          "geo": {
           "bgcolor": "white",
           "lakecolor": "white",
           "landcolor": "#E5ECF6",
           "showlakes": true,
           "showland": true,
           "subunitcolor": "white"
          },
          "hoverlabel": {
           "align": "left"
          },
          "hovermode": "closest",
          "mapbox": {
           "style": "light"
          },
          "paper_bgcolor": "white",
          "plot_bgcolor": "#E5ECF6",
          "polar": {
           "angularaxis": {
            "gridcolor": "white",
            "linecolor": "white",
            "ticks": ""
           },
           "bgcolor": "#E5ECF6",
           "radialaxis": {
            "gridcolor": "white",
            "linecolor": "white",
            "ticks": ""
           }
          },
          "scene": {
           "xaxis": {
            "backgroundcolor": "#E5ECF6",
            "gridcolor": "white",
            "gridwidth": 2,
            "linecolor": "white",
            "showbackground": true,
            "ticks": "",
            "zerolinecolor": "white"
           },
           "yaxis": {
            "backgroundcolor": "#E5ECF6",
            "gridcolor": "white",
            "gridwidth": 2,
            "linecolor": "white",
            "showbackground": true,
            "ticks": "",
            "zerolinecolor": "white"
           },
           "zaxis": {
            "backgroundcolor": "#E5ECF6",
            "gridcolor": "white",
            "gridwidth": 2,
            "linecolor": "white",
            "showbackground": true,
            "ticks": "",
            "zerolinecolor": "white"
           }
          },
          "shapedefaults": {
           "line": {
            "color": "#2a3f5f"
           }
          },
          "ternary": {
           "aaxis": {
            "gridcolor": "white",
            "linecolor": "white",
            "ticks": ""
           },
           "baxis": {
            "gridcolor": "white",
            "linecolor": "white",
            "ticks": ""
           },
           "bgcolor": "#E5ECF6",
           "caxis": {
            "gridcolor": "white",
            "linecolor": "white",
            "ticks": ""
           }
          },
          "title": {
           "x": 0.05
          },
          "xaxis": {
           "automargin": true,
           "gridcolor": "white",
           "linecolor": "white",
           "ticks": "",
           "title": {
            "standoff": 15
           },
           "zerolinecolor": "white",
           "zerolinewidth": 2
          },
          "yaxis": {
           "automargin": true,
           "gridcolor": "white",
           "linecolor": "white",
           "ticks": "",
           "title": {
            "standoff": 15
           },
           "zerolinecolor": "white",
           "zerolinewidth": 2
          }
         }
        },
        "title": {
         "text": "The pie chart of November 2021"
        }
       }
      }
     },
     "metadata": {},
     "output_type": "display_data"
    }
   ],
   "source": [
    "from matplotlib.pyplot import figure\n",
    "\n",
    "\n",
    "agric=len(df_agric)\n",
    "capital=len(df_capital)\n",
    "gdp=len(df_gdp)\n",
    "hce=len(df_hce)\n",
    "instit=len(df_instit)\n",
    "percapita=len(df_percapita)\n",
    "taxes=len(df_taxes)\n",
    "\n",
    "\n",
    "px.pie(names=['Agric','Captial','GDP','HCE','Institution','PerCapita','Taxes'],values=[agric,capital,gdp,hce,instit,percapita,taxes],title=\"The pie chart of November 2021\")"
   ]
  },
  {
   "cell_type": "code",
   "execution_count": 6,
   "metadata": {},
   "outputs": [
    {
     "data": {
      "text/plain": [
       "Series_reference        0\n",
       "Period                  0\n",
       "Data_value           1270\n",
       "STATUS                  0\n",
       "UNITS                   0\n",
       "MAGNTUDE                0\n",
       "Subject                 0\n",
       "Group               60034\n",
       "Series_title_1          0\n",
       "Series_title_2       3287\n",
       "Series_title_3      52447\n",
       "Series_title_4      77630\n",
       "Series_title_5      94362\n",
       "dtype: int64"
      ]
     },
     "execution_count": 6,
     "metadata": {},
     "output_type": "execute_result"
    }
   ],
   "source": [
    "null_value=frames.isnull()\n",
    "null_value.sum()"
   ]
  },
  {
   "cell_type": "code",
   "execution_count": 7,
   "metadata": {},
   "outputs": [
    {
     "data": {
      "text/plain": [
       "Series_reference    0.0\n",
       "Period              0.0\n",
       "Data_value          0.0\n",
       "STATUS              0.0\n",
       "UNITS               0.0\n",
       "MAGNTUDE            0.0\n",
       "Subject             0.0\n",
       "Group               0.0\n",
       "Series_title_1      0.0\n",
       "Series_title_2      0.0\n",
       "Series_title_3      0.0\n",
       "Series_title_4      0.0\n",
       "Series_title_5      0.0\n",
       "dtype: float64"
      ]
     },
     "execution_count": 7,
     "metadata": {},
     "output_type": "execute_result"
    }
   ],
   "source": [
    "# To remove null values from the frame \n",
    "remove_null=frames.dropna()\n",
    "remove_null.isnull().sum()"
   ]
  },
  {
   "cell_type": "code",
   "execution_count": 8,
   "metadata": {},
   "outputs": [
    {
     "data": {
      "text/html": [
       "<div>\n",
       "<style scoped>\n",
       "    .dataframe tbody tr th:only-of-type {\n",
       "        vertical-align: middle;\n",
       "    }\n",
       "\n",
       "    .dataframe tbody tr th {\n",
       "        vertical-align: top;\n",
       "    }\n",
       "\n",
       "    .dataframe thead th {\n",
       "        text-align: right;\n",
       "    }\n",
       "</style>\n",
       "<table border=\"1\" class=\"dataframe\">\n",
       "  <thead>\n",
       "    <tr style=\"text-align: right;\">\n",
       "      <th></th>\n",
       "      <th>Period</th>\n",
       "      <th>Value</th>\n",
       "      <th>Magnitude</th>\n",
       "    </tr>\n",
       "  </thead>\n",
       "  <tbody>\n",
       "    <tr>\n",
       "      <th>count</th>\n",
       "      <td>96809.000000</td>\n",
       "      <td>95539.000000</td>\n",
       "      <td>96809.0</td>\n",
       "    </tr>\n",
       "    <tr>\n",
       "      <th>mean</th>\n",
       "      <td>1999.634210</td>\n",
       "      <td>12202.316468</td>\n",
       "      <td>6.0</td>\n",
       "    </tr>\n",
       "    <tr>\n",
       "      <th>std</th>\n",
       "      <td>13.542289</td>\n",
       "      <td>48564.467409</td>\n",
       "      <td>0.0</td>\n",
       "    </tr>\n",
       "    <tr>\n",
       "      <th>min</th>\n",
       "      <td>1972.030000</td>\n",
       "      <td>-41395.000000</td>\n",
       "      <td>6.0</td>\n",
       "    </tr>\n",
       "    <tr>\n",
       "      <th>25%</th>\n",
       "      <td>1989.030000</td>\n",
       "      <td>108.000000</td>\n",
       "      <td>6.0</td>\n",
       "    </tr>\n",
       "    <tr>\n",
       "      <th>50%</th>\n",
       "      <td>2001.030000</td>\n",
       "      <td>864.000000</td>\n",
       "      <td>6.0</td>\n",
       "    </tr>\n",
       "    <tr>\n",
       "      <th>75%</th>\n",
       "      <td>2011.030000</td>\n",
       "      <td>4463.500000</td>\n",
       "      <td>6.0</td>\n",
       "    </tr>\n",
       "    <tr>\n",
       "      <th>max</th>\n",
       "      <td>2021.030000</td>\n",
       "      <td>990937.000000</td>\n",
       "      <td>6.0</td>\n",
       "    </tr>\n",
       "  </tbody>\n",
       "</table>\n",
       "</div>"
      ],
      "text/plain": [
       "             Period          Value  Magnitude\n",
       "count  96809.000000   95539.000000    96809.0\n",
       "mean    1999.634210   12202.316468        6.0\n",
       "std       13.542289   48564.467409        0.0\n",
       "min     1972.030000  -41395.000000        6.0\n",
       "25%     1989.030000     108.000000        6.0\n",
       "50%     2001.030000     864.000000        6.0\n",
       "75%     2011.030000    4463.500000        6.0\n",
       "max     2021.030000  990937.000000        6.0"
      ]
     },
     "execution_count": 8,
     "metadata": {},
     "output_type": "execute_result"
    }
   ],
   "source": [
    "# Renaming one of the value in the column \n",
    "frames=frames.rename(columns={\"Data_value\":\"Value\",\"MAGNTUDE\":\"Magnitude\",\"Series_reference\":\"Series\"})\n",
    "frames.describe()"
   ]
  },
  {
   "cell_type": "code",
   "execution_count": 9,
   "metadata": {},
   "outputs": [
    {
     "data": {
      "text/html": [
       "<div>\n",
       "<style scoped>\n",
       "    .dataframe tbody tr th:only-of-type {\n",
       "        vertical-align: middle;\n",
       "    }\n",
       "\n",
       "    .dataframe tbody tr th {\n",
       "        vertical-align: top;\n",
       "    }\n",
       "\n",
       "    .dataframe thead th {\n",
       "        text-align: right;\n",
       "    }\n",
       "</style>\n",
       "<table border=\"1\" class=\"dataframe\">\n",
       "  <thead>\n",
       "    <tr style=\"text-align: right;\">\n",
       "      <th></th>\n",
       "      <th>Value</th>\n",
       "      <th>Period</th>\n",
       "    </tr>\n",
       "    <tr>\n",
       "      <th>Series</th>\n",
       "      <th></th>\n",
       "      <th></th>\n",
       "    </tr>\n",
       "  </thead>\n",
       "  <tbody>\n",
       "    <tr>\n",
       "      <th>SNEA.SG07NAC01K90T4</th>\n",
       "      <td>990937.0</td>\n",
       "      <td>2021.03</td>\n",
       "    </tr>\n",
       "    <tr>\n",
       "      <th>SNEA.SG07NAC00K90</th>\n",
       "      <td>990937.0</td>\n",
       "      <td>2021.03</td>\n",
       "    </tr>\n",
       "    <tr>\n",
       "      <th>SNEA.SG07NAC05K90ZZ99</th>\n",
       "      <td>990937.0</td>\n",
       "      <td>2021.03</td>\n",
       "    </tr>\n",
       "    <tr>\n",
       "      <th>SNEA.SG07NAC04K90ZZ9</th>\n",
       "      <td>990937.0</td>\n",
       "      <td>2021.03</td>\n",
       "    </tr>\n",
       "    <tr>\n",
       "      <th>SNEA.SG07NAC03K90ZZ</th>\n",
       "      <td>990937.0</td>\n",
       "      <td>2021.03</td>\n",
       "    </tr>\n",
       "    <tr>\n",
       "      <th>SNEA.SG07NAC01K90M4</th>\n",
       "      <td>809465.0</td>\n",
       "      <td>2021.03</td>\n",
       "    </tr>\n",
       "  </tbody>\n",
       "</table>\n",
       "</div>"
      ],
      "text/plain": [
       "                          Value   Period\n",
       "Series                                  \n",
       "SNEA.SG07NAC01K90T4    990937.0  2021.03\n",
       "SNEA.SG07NAC00K90      990937.0  2021.03\n",
       "SNEA.SG07NAC05K90ZZ99  990937.0  2021.03\n",
       "SNEA.SG07NAC04K90ZZ9   990937.0  2021.03\n",
       "SNEA.SG07NAC03K90ZZ    990937.0  2021.03\n",
       "SNEA.SG07NAC01K90M4    809465.0  2021.03"
      ]
     },
     "execution_count": 9,
     "metadata": {},
     "output_type": "execute_result"
    },
    {
     "data": {
      "image/png": "[encoded data removed]",
      "text/plain": [
       "<Figure size 1440x360 with 1 Axes>"
      ]
     },
     "metadata": {
      "needs_background": "light"
     },
     "output_type": "display_data"
    }
   ],
   "source": [
    "# Line graph of the data_value and using seaborn, seaborn takes time\n",
    "from itertools import groupby\n",
    "\n",
    "\n",
    "graph_nov=frames.groupby(\"Series\").max()[[\"Value\",\"Period\"]]  #with the max() code, the series with then show up\n",
    "graph_nov=graph_nov.sort_values(by=[\"Value\"], ascending=False)  #in arranging in decending order based by Value\n",
    "\n",
    "plt.figure(figsize=(20,5))\n",
    "sns.lineplot(data=graph_nov)\n",
    "plt.xticks(rotation=90)\n",
    "\n",
    "graph_nov.head(6)"
   ]
  },
  {
   "cell_type": "code",
   "execution_count": 10,
   "metadata": {},
   "outputs": [
    {
     "data": {
      "text/plain": [
       "(array([-500.,    0.,  500., 1000., 1500., 2000., 2500., 3000.]),\n",
       " [Text(-500.0, 0, 'SNEA.SG05NAC04K10AA2'),\n",
       "  Text(0.0, 0, 'SNEA.SG07NAC01K90T4'),\n",
       "  Text(500.0, 0, 'SNEA.S2ND6115S500C1'),\n",
       "  Text(1000.0, 0, 'SNEA.SG07RAC05K90CC51'),\n",
       "  Text(1500.0, 0, 'SNEA.SG07RAC04K90CC2'),\n",
       "  Text(2000.0, 0, 'SNEA.SG02NAC04P51CC6'),\n",
       "  Text(2500.0, 0, 'SNEA.SG01NAC06B01LLN3'),\n",
       "  Text(3000.0, 0, '')])"
      ]
     },
     "execution_count": 10,
     "metadata": {},
     "output_type": "execute_result"
    },
    {
     "data": {
      "image/png": "[encoded data removed]",
      "text/plain": [
       "<Figure size 576x216 with 1 Axes>"
      ]
     },
     "metadata": {
      "needs_background": "light"
     },
     "output_type": "display_data"
    }
   ],
   "source": [
    "# Another way of plotting the line graph and is very fast and easier\n",
    "\n",
    "graph_nov.plot.line(figsize=(8,3))\n",
    "plt.xticks(rotation=90)   #note this will come after the plot, otherwise it will not excute"
   ]
  },
  {
   "cell_type": "code",
   "execution_count": 11,
   "metadata": {},
   "outputs": [
    {
     "data": {
      "text/html": [
       "<div>\n",
       "<style scoped>\n",
       "    .dataframe tbody tr th:only-of-type {\n",
       "        vertical-align: middle;\n",
       "    }\n",
       "\n",
       "    .dataframe tbody tr th {\n",
       "        vertical-align: top;\n",
       "    }\n",
       "\n",
       "    .dataframe thead th {\n",
       "        text-align: right;\n",
       "    }\n",
       "</style>\n",
       "<table border=\"1\" class=\"dataframe\">\n",
       "  <thead>\n",
       "    <tr style=\"text-align: right;\">\n",
       "      <th></th>\n",
       "      <th>index</th>\n",
       "      <th>STATUS</th>\n",
       "      <th>Value</th>\n",
       "      <th>Period</th>\n",
       "    </tr>\n",
       "  </thead>\n",
       "  <tbody>\n",
       "    <tr>\n",
       "      <th>0</th>\n",
       "      <td>28</td>\n",
       "      <td>FINAL</td>\n",
       "      <td>1948.0</td>\n",
       "      <td>2007.03</td>\n",
       "    </tr>\n",
       "    <tr>\n",
       "      <th>1</th>\n",
       "      <td>29</td>\n",
       "      <td>FINAL</td>\n",
       "      <td>1714.0</td>\n",
       "      <td>2008.03</td>\n",
       "    </tr>\n",
       "    <tr>\n",
       "      <th>2</th>\n",
       "      <td>30</td>\n",
       "      <td>FINAL</td>\n",
       "      <td>2057.0</td>\n",
       "      <td>2009.03</td>\n",
       "    </tr>\n",
       "    <tr>\n",
       "      <th>3</th>\n",
       "      <td>31</td>\n",
       "      <td>FINAL</td>\n",
       "      <td>1848.0</td>\n",
       "      <td>2010.03</td>\n",
       "    </tr>\n",
       "    <tr>\n",
       "      <th>4</th>\n",
       "      <td>32</td>\n",
       "      <td>FINAL</td>\n",
       "      <td>2127.0</td>\n",
       "      <td>2011.03</td>\n",
       "    </tr>\n",
       "    <tr>\n",
       "      <th>5</th>\n",
       "      <td>33</td>\n",
       "      <td>FINAL</td>\n",
       "      <td>2289.0</td>\n",
       "      <td>2012.03</td>\n",
       "    </tr>\n",
       "    <tr>\n",
       "      <th>6</th>\n",
       "      <td>34</td>\n",
       "      <td>FINAL</td>\n",
       "      <td>2316.0</td>\n",
       "      <td>2013.03</td>\n",
       "    </tr>\n",
       "    <tr>\n",
       "      <th>7</th>\n",
       "      <td>35</td>\n",
       "      <td>FINAL</td>\n",
       "      <td>2166.0</td>\n",
       "      <td>2014.03</td>\n",
       "    </tr>\n",
       "    <tr>\n",
       "      <th>8</th>\n",
       "      <td>36</td>\n",
       "      <td>FINAL</td>\n",
       "      <td>2614.0</td>\n",
       "      <td>2015.03</td>\n",
       "    </tr>\n",
       "    <tr>\n",
       "      <th>9</th>\n",
       "      <td>37</td>\n",
       "      <td>FINAL</td>\n",
       "      <td>3074.0</td>\n",
       "      <td>2016.03</td>\n",
       "    </tr>\n",
       "    <tr>\n",
       "      <th>10</th>\n",
       "      <td>38</td>\n",
       "      <td>FINAL</td>\n",
       "      <td>2919.0</td>\n",
       "      <td>2017.03</td>\n",
       "    </tr>\n",
       "    <tr>\n",
       "      <th>11</th>\n",
       "      <td>39</td>\n",
       "      <td>FINAL</td>\n",
       "      <td>3172.0</td>\n",
       "      <td>2018.03</td>\n",
       "    </tr>\n",
       "    <tr>\n",
       "      <th>12</th>\n",
       "      <td>40</td>\n",
       "      <td>FINAL</td>\n",
       "      <td>3218.0</td>\n",
       "      <td>2019.03</td>\n",
       "    </tr>\n",
       "    <tr>\n",
       "      <th>13</th>\n",
       "      <td>41</td>\n",
       "      <td>FINAL</td>\n",
       "      <td>3437.0</td>\n",
       "      <td>2020.03</td>\n",
       "    </tr>\n",
       "  </tbody>\n",
       "</table>\n",
       "</div>"
      ],
      "text/plain": [
       "    index STATUS   Value   Period\n",
       "0      28  FINAL  1948.0  2007.03\n",
       "1      29  FINAL  1714.0  2008.03\n",
       "2      30  FINAL  2057.0  2009.03\n",
       "3      31  FINAL  1848.0  2010.03\n",
       "4      32  FINAL  2127.0  2011.03\n",
       "5      33  FINAL  2289.0  2012.03\n",
       "6      34  FINAL  2316.0  2013.03\n",
       "7      35  FINAL  2166.0  2014.03\n",
       "8      36  FINAL  2614.0  2015.03\n",
       "9      37  FINAL  3074.0  2016.03\n",
       "10     38  FINAL  2919.0  2017.03\n",
       "11     39  FINAL  3172.0  2018.03\n",
       "12     40  FINAL  3218.0  2019.03\n",
       "13     41  FINAL  3437.0  2020.03"
      ]
     },
     "execution_count": 11,
     "metadata": {},
     "output_type": "execute_result"
    }
   ],
   "source": [
    "# To check the date(period), value and status of Series 2 that has cattle\n",
    "cattle=frames[(frames[\"Series_title_2\"]==\"Cattle\")][['STATUS','Value','Period']].reset_index()\n",
    "cattle"
   ]
  },
  {
   "cell_type": "code",
   "execution_count": 12,
   "metadata": {},
   "outputs": [
    {
     "data": {
      "text/html": [
       "<div>\n",
       "<style scoped>\n",
       "    .dataframe tbody tr th:only-of-type {\n",
       "        vertical-align: middle;\n",
       "    }\n",
       "\n",
       "    .dataframe tbody tr th {\n",
       "        vertical-align: top;\n",
       "    }\n",
       "\n",
       "    .dataframe thead th {\n",
       "        text-align: right;\n",
       "    }\n",
       "</style>\n",
       "<table border=\"1\" class=\"dataframe\">\n",
       "  <thead>\n",
       "    <tr style=\"text-align: right;\">\n",
       "      <th></th>\n",
       "      <th>STATUS</th>\n",
       "      <th>Series_title_3</th>\n",
       "    </tr>\n",
       "  </thead>\n",
       "  <tbody>\n",
       "    <tr>\n",
       "      <th>0</th>\n",
       "      <td>REVISED</td>\n",
       "      <td>NaN</td>\n",
       "    </tr>\n",
       "    <tr>\n",
       "      <th>1</th>\n",
       "      <td>REVISED</td>\n",
       "      <td>NaN</td>\n",
       "    </tr>\n",
       "    <tr>\n",
       "      <th>2</th>\n",
       "      <td>REVISED</td>\n",
       "      <td>NaN</td>\n",
       "    </tr>\n",
       "    <tr>\n",
       "      <th>3</th>\n",
       "      <td>REVISED</td>\n",
       "      <td>NaN</td>\n",
       "    </tr>\n",
       "    <tr>\n",
       "      <th>4</th>\n",
       "      <td>REVISED</td>\n",
       "      <td>NaN</td>\n",
       "    </tr>\n",
       "  </tbody>\n",
       "</table>\n",
       "</div>"
      ],
      "text/plain": [
       "    STATUS Series_title_3\n",
       "0  REVISED            NaN\n",
       "1  REVISED            NaN\n",
       "2  REVISED            NaN\n",
       "3  REVISED            NaN\n",
       "4  REVISED            NaN"
      ]
     },
     "execution_count": 12,
     "metadata": {},
     "output_type": "execute_result"
    }
   ],
   "source": [
    "# checking for a data  is either Revised or are in all sector \n",
    "reserve_sector=frames[(frames[\"STATUS\"]=='REVISED')  | (frames[\"Series_title_3\"]=='All Sectors')].reset_index()\n",
    "reserve_sector[['STATUS','Series_title_3']].head()"
   ]
  },
  {
   "cell_type": "markdown",
   "metadata": {},
   "source": [
    "THIS IS THE END FOR THE ANALYSIS OF THIS DATA"
   ]
  }
 ],
 "metadata": {
  "kernelspec": {
   "display_name": "Python 3.10.5 64-bit",
   "language": "python",
   "name": "python3"
  },
  "language_info": {
   "codemirror_mode": {
    "name": "ipython",
    "version": 3
   },
   "file_extension": ".py",
   "mimetype": "text/x-python",
   "name": "python",
   "nbconvert_exporter": "python",
   "pygments_lexer": "ipython3",
   "version": "3.10.5"
  },
  "orig_nbformat": 4,
  "vscode": {
   "interpreter": {
    "hash": "e3d890734b4854427767a473afe9c962bbed108a5bde4722aba3ce3f0b0c1bf0"
   }
  }
 },
 "nbformat": 4,
 "nbformat_minor": 2
}
